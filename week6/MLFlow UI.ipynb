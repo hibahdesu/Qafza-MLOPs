{
 "cells": [
  {
   "cell_type": "code",
   "execution_count": null,
   "id": "0c542325-64d9-4860-a1f1-e82a71857ed9",
   "metadata": {},
   "outputs": [],
   "source": [
    "!mlflow ui"
   ]
  },
  {
   "cell_type": "markdown",
   "id": "165e0f5d-e892-47c7-9275-c706fb1903bd",
   "metadata": {},
   "source": [
    "**After running it, go to http://127.0.0.1:5000 to open it**"
   ]
  },
  {
   "cell_type": "code",
   "execution_count": null,
   "id": "482c8bba-65c0-49aa-ac76-3b75da8fb2e9",
   "metadata": {},
   "outputs": [],
   "source": []
  }
 ],
 "metadata": {
  "kernelspec": {
   "display_name": "Python 3 (ipykernel)",
   "language": "python",
   "name": "python3"
  },
  "language_info": {
   "codemirror_mode": {
    "name": "ipython",
    "version": 3
   },
   "file_extension": ".py",
   "mimetype": "text/x-python",
   "name": "python",
   "nbconvert_exporter": "python",
   "pygments_lexer": "ipython3",
   "version": "3.12.4"
  }
 },
 "nbformat": 4,
 "nbformat_minor": 5
}
